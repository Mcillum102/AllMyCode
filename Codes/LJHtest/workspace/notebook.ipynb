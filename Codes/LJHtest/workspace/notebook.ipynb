{
 "cells": [
  {
   "cell_type": "markdown",
   "id": "9374acde-efd7-4c31-9275-1d7366b8184c",
   "metadata": {},
   "source": [
    "## Part 1 Preliminary web scraping and data analysis"
   ]
  },
  {
   "cell_type": "markdown",
   "id": "f121cbbd-f2c6-4938-99a0-657d73c94fa2",
   "metadata": {},
   "source": [
    "1.2 Building DataFame"
   ]
  },
  {
   "cell_type": "code",
   "execution_count": 1,
   "id": "69db71ae-f136-490c-a58d-c06992b78c3b",
   "metadata": {
    "collapsed": false,
    "executionCancelledAt": null,
    "executionTime": null,
    "jupyter": {
     "outputs_hidden": false,
     "source_hidden": false
    },
    "lastExecutedAt": null,
    "lastExecutedByKernel": null,
    "lastScheduledRunId": null,
    "lastSuccessfullyExecutedCode": null,
    "outputsMetadata": {
     "0": {
      "height": 543,
      "type": "dataFrame"
     }
    }
   },
   "outputs": [
    {
     "data": {
      "text/html": [
       "<div>\n",
       "<style scoped>\n",
       "    .dataframe tbody tr th:only-of-type {\n",
       "        vertical-align: middle;\n",
       "    }\n",
       "\n",
       "    .dataframe tbody tr th {\n",
       "        vertical-align: top;\n",
       "    }\n",
       "\n",
       "    .dataframe thead th {\n",
       "        text-align: right;\n",
       "    }\n",
       "</style>\n",
       "<table border=\"1\" class=\"dataframe\">\n",
       "  <thead>\n",
       "    <tr style=\"text-align: right;\">\n",
       "      <th></th>\n",
       "      <th>Title</th>\n",
       "      <th>Price</th>\n",
       "      <th>Location</th>\n",
       "      <th>Link</th>\n",
       "    </tr>\n",
       "  </thead>\n",
       "  <tbody>\n",
       "  </tbody>\n",
       "</table>\n",
       "</div>"
      ],
      "text/plain": [
       "Empty DataFrame\n",
       "Columns: [Title, Price, Location, Link]\n",
       "Index: []"
      ]
     },
     "execution_count": 1,
     "metadata": {},
     "output_type": "execute_result"
    }
   ],
   "source": [
    "import requests\n",
    "from bs4 import BeautifulSoup\n",
    "\n",
    "# URL of the Craigslist page\n",
    "url = 'https://vancouver.craigslist.org/search/apa'\n",
    "# Send a request to fetch the raw HTML of the page (static content)\n",
    "response = requests.get(url)\n",
    "\n",
    "# Parse the HTML\n",
    "soup = BeautifulSoup(response.text, \"html.parser\")\n",
    "\n",
    "# Extract the first 360 postings\n",
    "postings = soup.find_all('li', class_='cl-static-search-result')[:360]\n",
    "\n",
    "# Initialize empty lists to store title, prices, location, link\n",
    "titles = []\n",
    "prices = []\n",
    "locations = []\n",
    "links = []\n",
    "\n",
    "# Loop through each posting and extract the title, price, location, and link\n",
    "for post in postings:\n",
    "    title = post.find('div', class_='title')\n",
    "    if title:\n",
    "        titles.append(title.text.strip())\n",
    "    else:\n",
    "        titles.append(None)  # Append None if title is not found\n",
    "\n",
    "    price = post.find('div', class_='price')\n",
    "    if price:\n",
    "        prices.append(price.text.strip())\n",
    "    else:\n",
    "        prices.append(None)  # Append None if price is not found\n",
    "\n",
    "    location = post.find('div', class_='location')\n",
    "    if location:\n",
    "        locations.append(location.text.strip())\n",
    "    else:\n",
    "        locations.append(None)  # Append None if location is not found\n",
    "\n",
    "    link = post.find('a', class_=\"\")\n",
    "    if link:\n",
    "        links.append(link[\"href\"])\n",
    "    else:\n",
    "        links.append(None)  # Append None if link is not found\n",
    "\n",
    "# Create a DataFrame from the first 360 listings\n",
    "import pandas as pd\n",
    "\n",
    "data = pd.DataFrame({\n",
    "    'Title': titles,\n",
    "    'Price': prices,\n",
    "    'Location': locations,\n",
    "    'Link': links\n",
    "})\n",
    "\n",
    "# Reset the index to make the first column row 1\n",
    "data.index = data.index + 1\n",
    "\n",
    "# Display the DataFrame\n",
    "data"
   ]
  },
  {
   "cell_type": "markdown",
   "id": "911b6f5a-5c44-48e4-ad3b-7d8bddf0e3bf",
   "metadata": {},
   "source": [
    "1.3 Data Cleaning and Preprocessing"
   ]
  },
  {
   "cell_type": "code",
   "execution_count": null,
   "id": "7decf4d2-5024-4dca-a9ef-76bd7f46a7d3",
   "metadata": {
    "chartConfig": {
     "bar": {
      "hasRoundedCorners": true,
      "stacked": false
     },
     "type": "bar",
     "version": "v1"
    },
    "collapsed": false,
    "executionCancelledAt": null,
    "executionTime": 51,
    "jupyter": {
     "outputs_hidden": false,
     "source_hidden": false
    },
    "lastExecutedAt": 1732664148948,
    "lastExecutedByKernel": "a93fa588-26c3-49f2-b7d9-0aa8e73e983a",
    "lastScheduledRunId": null,
    "lastSuccessfullyExecutedCode": "# Load the newly uploaded data file\ndata = pd.DataFrame({\n    'Title': titles,\n    'Price': prices,\n    'Location': locations,\n    'Link': links\n})\n\n# Step 1: Check for missing values\nmissing_summary = data.isnull().sum()\n\n# Step 2: Clean the Price column by removing \"$\" and quotes, then convert to numeric\ndata['Price'] = data['Price'].str.replace(r'\\$', '', regex=True).str.replace(',', '', regex=True).astype(float)\n\n# Step 3: Standardize Location names\ndata['Location'] = data['Location'].str.replace('\"', '').str.strip().str.title()\n\n# Step 4: Detect and handle outliers in the Price column\nQ1 = data['Price'].quantile(0.25)\nQ3 = data['Price'].quantile(0.75)\nIQR = Q3 - Q1\nlower_bound = Q1 - 1.5 * IQR\nupper_bound = Q3 + 1.5 * IQR\n\n# Remove outliers\ncleaned_data = data[(data['Price'] >= lower_bound) & (data['Price'] <= upper_bound)]\n\n# Step 5: Reset the index to start from 1\ncleaned_data.reset_index(drop=True, inplace=True)\ncleaned_data.index += 1\n\n# Save the cleaned dataset to file and display the result\nimport pandas as pd\nfrom IPython.display import display\n\ndisplay(cleaned_data)\n\n# display the cleaned data description\ndisplay(cleaned_data.describe())",
    "outputsMetadata": {
     "0": {
      "height": 543,
      "type": "dataFrame"
     },
     "1": {
      "height": 306,
      "type": "dataFrame"
     }
    },
    "visualizeDataframe": false
   },
   "outputs": [
    {
     "data": {
      "text/html": [
       "<div>\n",
       "<style scoped>\n",
       "    .dataframe tbody tr th:only-of-type {\n",
       "        vertical-align: middle;\n",
       "    }\n",
       "\n",
       "    .dataframe tbody tr th {\n",
       "        vertical-align: top;\n",
       "    }\n",
       "\n",
       "    .dataframe thead th {\n",
       "        text-align: right;\n",
       "    }\n",
       "</style>\n",
       "<table border=\"1\" class=\"dataframe\">\n",
       "  <thead>\n",
       "    <tr style=\"text-align: right;\">\n",
       "      <th></th>\n",
       "      <th>Title</th>\n",
       "      <th>Price</th>\n",
       "      <th>Location</th>\n",
       "      <th>Link</th>\n",
       "    </tr>\n",
       "  </thead>\n",
       "  <tbody>\n",
       "  </tbody>\n",
       "</table>\n",
       "</div>"
      ],
      "text/plain": [
       "Empty DataFrame\n",
       "Columns: [Title, Price, Location, Link]\n",
       "Index: []"
      ]
     },
     "metadata": {},
     "output_type": "display_data"
    },
    {
     "data": {
      "text/html": [
       "<div>\n",
       "<style scoped>\n",
       "    .dataframe tbody tr th:only-of-type {\n",
       "        vertical-align: middle;\n",
       "    }\n",
       "\n",
       "    .dataframe tbody tr th {\n",
       "        vertical-align: top;\n",
       "    }\n",
       "\n",
       "    .dataframe thead th {\n",
       "        text-align: right;\n",
       "    }\n",
       "</style>\n",
       "<table border=\"1\" class=\"dataframe\">\n",
       "  <thead>\n",
       "    <tr style=\"text-align: right;\">\n",
       "      <th></th>\n",
       "      <th>Title</th>\n",
       "      <th>Price</th>\n",
       "      <th>Link</th>\n",
       "    </tr>\n",
       "  </thead>\n",
       "  <tbody>\n",
       "    <tr>\n",
       "      <th>count</th>\n",
       "      <td>0.0</td>\n",
       "      <td>0.0</td>\n",
       "      <td>0.0</td>\n",
       "    </tr>\n",
       "    <tr>\n",
       "      <th>mean</th>\n",
       "      <td>NaN</td>\n",
       "      <td>NaN</td>\n",
       "      <td>NaN</td>\n",
       "    </tr>\n",
       "    <tr>\n",
       "      <th>std</th>\n",
       "      <td>NaN</td>\n",
       "      <td>NaN</td>\n",
       "      <td>NaN</td>\n",
       "    </tr>\n",
       "    <tr>\n",
       "      <th>min</th>\n",
       "      <td>NaN</td>\n",
       "      <td>NaN</td>\n",
       "      <td>NaN</td>\n",
       "    </tr>\n",
       "    <tr>\n",
       "      <th>25%</th>\n",
       "      <td>NaN</td>\n",
       "      <td>NaN</td>\n",
       "      <td>NaN</td>\n",
       "    </tr>\n",
       "    <tr>\n",
       "      <th>50%</th>\n",
       "      <td>NaN</td>\n",
       "      <td>NaN</td>\n",
       "      <td>NaN</td>\n",
       "    </tr>\n",
       "    <tr>\n",
       "      <th>75%</th>\n",
       "      <td>NaN</td>\n",
       "      <td>NaN</td>\n",
       "      <td>NaN</td>\n",
       "    </tr>\n",
       "    <tr>\n",
       "      <th>max</th>\n",
       "      <td>NaN</td>\n",
       "      <td>NaN</td>\n",
       "      <td>NaN</td>\n",
       "    </tr>\n",
       "  </tbody>\n",
       "</table>\n",
       "</div>"
      ],
      "text/plain": [
       "       Title  Price  Link\n",
       "count    0.0    0.0   0.0\n",
       "mean     NaN    NaN   NaN\n",
       "std      NaN    NaN   NaN\n",
       "min      NaN    NaN   NaN\n",
       "25%      NaN    NaN   NaN\n",
       "50%      NaN    NaN   NaN\n",
       "75%      NaN    NaN   NaN\n",
       "max      NaN    NaN   NaN"
      ]
     },
     "metadata": {},
     "output_type": "display_data"
    }
   ],
   "source": [
    "# Load the newly uploaded data file\n",
    "data = pd.DataFrame({\n",
    "    'Title': titles,\n",
    "    'Price': prices,\n",
    "    'Location': locations,\n",
    "    'Link': links\n",
    "})\n",
    "\n",
    "# Step 1: Check for missing values\n",
    "missing_summary = data.isnull().sum()\n",
    "\n",
    "# Step 2: Clean the Price column by removing \"$\" and quotes, then convert to numeric\n",
    "data['Price'] = data['Price'].str.replace(r'\\$', '', regex=True).str.replace(',', '', regex=True).astype(float)\n",
    "\n",
    "# Step 3: Standardize Location names\n",
    "data['Location'] = data['Location'].str.replace('\"', '').str.strip().str.title()\n",
    "\n",
    "# Step 4: Detect and handle outliers in the Price column\n",
    "Q1 = data['Price'].quantile(0.25)\n",
    "Q3 = data['Price'].quantile(0.75)\n",
    "IQR = Q3 - Q1\n",
    "lower_bound = Q1 - 1.5 * IQR\n",
    "upper_bound = Q3 + 1.5 * IQR\n",
    "\n",
    "# Remove outliers\n",
    "cleaned_data = data[(data['Price'] >= lower_bound) & (data['Price'] <= upper_bound)]\n",
    "\n",
    "# Step 5: Reset the index to start from 1\n",
    "cleaned_data.reset_index(drop=True, inplace=True)\n",
    "cleaned_data.index += 1\n",
    "\n",
    "# Save the cleaned dataset to file and display the result\n",
    "import pandas as pd\n",
    "from IPython.display import display\n",
    "\n",
    "display(cleaned_data)\n",
    "\n",
    "# display the cleaned data description\n",
    "display(cleaned_data.describe())"
   ]
  },
  {
   "cell_type": "markdown",
   "id": "e5c4a6a6-ebb5-40f9-9592-37d52fc7de9e",
   "metadata": {},
   "source": [
    "1.4 Initial EDA"
   ]
  },
  {
   "cell_type": "code",
   "execution_count": 3,
   "id": "78d65b67-43ed-4dc9-8ac4-3d7c3a2258e9",
   "metadata": {
    "collapsed": false,
    "executionCancelledAt": null,
    "executionTime": 365,
    "jupyter": {
     "outputs_hidden": false,
     "source_hidden": false
    },
    "lastExecutedAt": 1732664153420,
    "lastExecutedByKernel": "a93fa588-26c3-49f2-b7d9-0aa8e73e983a",
    "lastScheduledRunId": null,
    "lastSuccessfullyExecutedCode": "import matplotlib.pyplot as plt\n\n# Recreate the histogram after confirming that the dataset excludes outliers\n# Prices have already been cleaned and outliers removed in the \"cleaned_data\" dataframe\n\n# Extract cleaned prices\ncleaned_prices = cleaned_data['Price']\n\n# Calculate mean and median for the cleaned dataset\nmean_cleaned_price = cleaned_prices.mean()\nmedian_cleaned_price = cleaned_prices.median()\n\n# Create a histogram for the cleaned dataset\nplt.figure(figsize=(10, 6))\nplt.hist(cleaned_prices, bins=20, alpha=0.7, edgecolor='black', color='orange', label='Price Distribution')\n\n# Add mean and median lines\nplt.axvline(mean_cleaned_price, color='blue', linestyle='--', label=f'Mean: ${mean_cleaned_price:.2f}')\nplt.axvline(median_cleaned_price, color='green', linestyle='-', label=f'Median: ${median_cleaned_price:.2f}')\n\n# Add labels, title, and legend\nplt.title('Distribution of Property Prices (Outliers Removed)', fontsize=16)\nplt.xlabel('Price ($)', fontsize=12)\nplt.ylabel('Frequency', fontsize=12)\nplt.legend()\nplt.grid(axis='y', alpha=0.3)\n\n# Display the updated plot\nplt.show()"
   },
   "outputs": [
    {
     "data": {
      "image/png": "[encoded data removed]",
      "text/plain": [
       "<Figure size 1000x600 with 1 Axes>"
      ]
     },
     "metadata": {},
     "output_type": "display_data"
    }
   ],
   "source": [
    "import matplotlib.pyplot as plt\n",
    "\n",
    "# Recreate the histogram after confirming that the dataset excludes outliers\n",
    "# Prices have already been cleaned and outliers removed in the \"cleaned_data\" dataframe\n",
    "\n",
    "# Extract cleaned prices\n",
    "cleaned_prices = cleaned_data['Price']\n",
    "\n",
    "# Calculate mean and median for the cleaned dataset\n",
    "mean_cleaned_price = cleaned_prices.mean()\n",
    "median_cleaned_price = cleaned_prices.median()\n",
    "\n",
    "# Create a histogram for the cleaned dataset\n",
    "plt.figure(figsize=(10, 6))\n",
    "plt.hist(cleaned_prices, bins=20, alpha=0.7, edgecolor='black', color='orange', label='Price Distribution')\n",
    "\n",
    "# Add mean and median lines\n",
    "plt.axvline(mean_cleaned_price, color='blue', linestyle='--', label=f'Mean: ${mean_cleaned_price:.2f}')\n",
    "plt.axvline(median_cleaned_price, color='green', linestyle='-', label=f'Median: ${median_cleaned_price:.2f}')\n",
    "\n",
    "# Add labels, title, and legend\n",
    "plt.title('Distribution of Property Prices (Outliers Removed)', fontsize=16)\n",
    "plt.xlabel('Price ($)', fontsize=12)\n",
    "plt.ylabel('Frequency', fontsize=12)\n",
    "plt.legend()\n",
    "plt.grid(axis='y', alpha=0.3)\n",
    "\n",
    "# Display the updated plot\n",
    "plt.show()"
   ]
  },
  {
   "cell_type": "markdown",
   "id": "6fc7585f-0183-43e8-b942-4e47554142a6",
   "metadata": {},
   "source": [
    "1.5 Insights and Patterns"
   ]
  },
  {
   "cell_type": "code",
   "execution_count": 4,
   "id": "064eb879-3012-43d0-b79a-b1b79c72527f",
   "metadata": {
    "executionCancelledAt": null,
    "executionTime": 21,
    "lastExecutedAt": 1732664159907,
    "lastExecutedByKernel": "a93fa588-26c3-49f2-b7d9-0aa8e73e983a",
    "lastScheduledRunId": null,
    "lastSuccessfullyExecutedCode": "import numpy as np\n\n# Extract cleaned prices from the cleaned_data dataframe\ncleaned_prices = cleaned_data['Price'].values\n\n# Calculate mean and median for the cleaned dataset\nmean_cleaned_price = cleaned_prices.mean()\nmedian_cleaned_price = np.median(cleaned_prices)\n\n# Determine the price range with the highest frequency (mode of the histogram)\nhist, bin_edges = np.histogram(cleaned_prices, bins=20)\nmax_bin_index = np.argmax(hist)\nprice_range_mode = (bin_edges[max_bin_index], bin_edges[max_bin_index + 1])\n\n# Create a descriptive paragraph\ndescription = (\n    f\"The mean rental price of the properties, after removing outliers, is ${mean_cleaned_price:.2f}. \"\n    f\"The median rental price is ${median_cleaned_price:.2f}. \"\n    f\"The prices are most clustered in the range ${price_range_mode[0]:.2f} to ${price_range_mode[1]:.2f}. \"\n    \"This indicates that the average rental price is slightly higher than the median, suggesting a right-skewed distribution.\"\n)\n\ngraph_description = (\n    \"\\nPatterns: The data reveals that as rental prices increase, the number of available properties decreases, indicating that higher-priced rentals are less common. \"\n    \"The mean rental price is slightly higher than the median, further supporting the observation of a right-skewed price distribution.\"\n    \"\\n\\nOverall, most rental properties fall into the lower price ranges, \"\n    \"Higher-priced rentals are rare, suggesting a premium for desirable locations or unique property features. \"\n    \"At the same time, the competitive nature of Vancouver's rental market for mid-range properties reflects the city's high cost of living.\"\n)\n\n# Display the descriptive paragraph\nprint(description)\n\nprint(graph_description)",
    "outputsMetadata": {
     "0": {
      "height": 353,
      "type": "stream"
     }
    }
   },
   "outputs": [
    {
     "name": "stdout",
     "output_type": "stream",
     "text": [
      "The mean rental price of the properties, after removing outliers, is $nan. The median rental price is $nan. The prices are most clustered in the range $0.00 to $0.05. This indicates that the average rental price is slightly higher than the median, suggesting a right-skewed distribution.\n",
      "\n",
      "Patterns: The data reveals that as rental prices increase, the number of available properties decreases, indicating that higher-priced rentals are less common. The mean rental price is slightly higher than the median, further supporting the observation of a right-skewed price distribution.\n",
      "\n",
      "Overall, most rental properties fall into the lower price ranges, Higher-priced rentals are rare, suggesting a premium for desirable locations or unique property features. At the same time, the competitive nature of Vancouver's rental market for mid-range properties reflects the city's high cost of living.\n"
     ]
    },
    {
     "name": "stderr",
     "output_type": "stream",
     "text": [
      "/var/folders/5h/wnfgmyyx12x9xfdb_csyk7y80000gn/T/ipykernel_3183/1342132378.py:7: RuntimeWarning: Mean of empty slice.\n",
      "  mean_cleaned_price = cleaned_prices.mean()\n",
      "/Library/Frameworks/Python.framework/Versions/3.12/lib/python3.12/site-packages/numpy/core/_methods.py:129: RuntimeWarning: invalid value encountered in scalar divide\n",
      "  ret = ret.dtype.type(ret / rcount)\n",
      "/Library/Frameworks/Python.framework/Versions/3.12/lib/python3.12/site-packages/numpy/core/fromnumeric.py:3504: RuntimeWarning: Mean of empty slice.\n",
      "  return _methods._mean(a, axis=axis, dtype=dtype,\n"
     ]
    }
   ],
   "source": [
    "import numpy as np\n",
    "\n",
    "# Extract cleaned prices from the cleaned_data dataframe\n",
    "cleaned_prices = cleaned_data['Price'].values\n",
    "\n",
    "# Calculate mean and median for the cleaned dataset\n",
    "mean_cleaned_price = cleaned_prices.mean()\n",
    "median_cleaned_price = np.median(cleaned_prices)\n",
    "\n",
    "# Determine the price range with the highest frequency (mode of the histogram)\n",
    "hist, bin_edges = np.histogram(cleaned_prices, bins=20)\n",
    "max_bin_index = np.argmax(hist)\n",
    "price_range_mode = (bin_edges[max_bin_index], bin_edges[max_bin_index + 1])\n",
    "\n",
    "# Create a descriptive paragraph\n",
    "description = (\n",
    "    f\"The mean rental price of the properties, after removing outliers, is ${mean_cleaned_price:.2f}. \"\n",
    "    f\"The median rental price is ${median_cleaned_price:.2f}. \"\n",
    "    f\"The prices are most clustered in the range ${price_range_mode[0]:.2f} to ${price_range_mode[1]:.2f}. \"\n",
    "    \"This indicates that the average rental price is slightly higher than the median, suggesting a right-skewed distribution.\"\n",
    ")\n",
    "\n",
    "graph_description = (\n",
    "    \"\\nPatterns: The data reveals that as rental prices increase, the number of available properties decreases, indicating that higher-priced rentals are less common. \"\n",
    "    \"The mean rental price is slightly higher than the median, further supporting the observation of a right-skewed price distribution.\"\n",
    "    \"\\n\\nOverall, most rental properties fall into the lower price ranges, \"\n",
    "    \"Higher-priced rentals are rare, suggesting a premium for desirable locations or unique property features. \"\n",
    "    \"At the same time, the competitive nature of Vancouver's rental market for mid-range properties reflects the city's high cost of living.\"\n",
    ")\n",
    "\n",
    "# Display the descriptive paragraph\n",
    "print(description)\n",
    "\n",
    "print(graph_description)"
   ]
  },
  {
   "cell_type": "markdown",
   "id": "b70a1733-876a-4f9f-b1c2-abc986376045",
   "metadata": {},
   "source": [
    "## Part 2: More advanced web scraping and creating interactive maps"
   ]
  },
  {
   "cell_type": "markdown",
   "id": "26310136-794d-4932-a121-0166c1cfa2e2",
   "metadata": {},
   "source": [
    "2.1 Scraping Images"
   ]
  },
  {
   "cell_type": "code",
   "execution_count": 5,
   "id": "f54743af-3a69-4846-aa88-8873d470671d",
   "metadata": {
    "executionCancelledAt": 1732663019005,
    "executionTime": 125,
    "lastExecutedAt": 1732660108204,
    "lastExecutedByKernel": "75747b6c-65b4-4014-b403-c83d5286282f",
    "lastScheduledRunId": null,
    "lastSuccessfullyExecutedCode": "import requests\nfrom bs4 import BeautifulSoup\nimport re\nfrom IPython.display import display, HTML\n\n# URL of the Craigslist listing\nurl = \"https://vancouver.craigslist.org/van/apa/d/vancouver-refreshed-2bd-unit-at-newport/7798789439.html\"\n\n# Send a GET request to the URL\nresponse = requests.get(url)\n\n# Parse the HTML content of the page\nsoup = BeautifulSoup(response.content, 'html.parser')\n\n# Find all the image tags\nimage_tags = soup.find_all('img')\n\n# Extract the URLs of the images\nimage_urls = [img['src'] for img in image_tags if 'src' in img.attrs]\n\n# Create HTML to display images in a grid format\nhtml_content = '<div style=\"display: flex; flex-wrap: wrap;\">'\nfor image_url in image_urls:\n    html_content += f'<div style=\"flex: 1 0 21%; margin: 5px;\"><img src=\"{image_url}\" style=\"width: 100%; height: auto;\"></div>'\nhtml_content += '</div>'\n\n# Display the images in a grid format\ndisplay(HTML(html_content))"
   },
   "outputs": [
    {
     "data": {
      "text/html": [
       "<div style=\"display: flex; flex-wrap: wrap;\"></div>"
      ],
      "text/plain": [
       "<IPython.core.display.HTML object>"
      ]
     },
     "metadata": {},
     "output_type": "display_data"
    }
   ],
   "source": [
    "import requests\n",
    "from bs4 import BeautifulSoup\n",
    "import re\n",
    "from IPython.display import display, HTML\n",
    "\n",
    "# URL of the Craigslist listing\n",
    "url = \"https://vancouver.craigslist.org/van/apa/d/vancouver-refreshed-2bd-unit-at-newport/7798789439.html\"\n",
    "\n",
    "# Send a GET request to the URL\n",
    "response = requests.get(url)\n",
    "\n",
    "# Parse the HTML content of the page\n",
    "soup = BeautifulSoup(response.content, 'html.parser')\n",
    "\n",
    "# Find all the image tags\n",
    "image_tags = soup.find_all('img')\n",
    "\n",
    "# Extract the URLs of the images\n",
    "image_urls = [img['src'] for img in image_tags if 'src' in img.attrs]\n",
    "\n",
    "# Create HTML to display images in a grid format\n",
    "html_content = '<div style=\"display: flex; flex-wrap: wrap;\">'\n",
    "for image_url in image_urls:\n",
    "    html_content += f'<div style=\"flex: 1 0 21%; margin: 5px;\"><img src=\"{image_url}\" style=\"width: 100%; height: auto;\"></div>'\n",
    "html_content += '</div>'\n",
    "\n",
    "# Display the images in a grid format\n",
    "display(HTML(html_content))"
   ]
  },
  {
   "cell_type": "markdown",
   "id": "4f2f7bba-6c54-4088-a7d5-f1c49e5ad83c",
   "metadata": {},
   "source": [
    "2.2 Scraping More Data and Building Enriched DataFrame"
   ]
  },
  {
   "cell_type": "code",
   "execution_count": 6,
   "id": "5d822866-b6e3-4fdd-8e4b-fb101e5d8b5b",
   "metadata": {
    "chartConfig": {
     "bar": {
      "hasRoundedCorners": true,
      "stacked": false
     },
     "type": "bar",
     "version": "v1"
    },
    "collapsed": false,
    "executionCancelledAt": null,
    "executionTime": 32,
    "jupyter": {
     "outputs_hidden": false,
     "source_hidden": false
    },
    "lastExecutedAt": 1732667643697,
    "lastExecutedByKernel": "a93fa588-26c3-49f2-b7d9-0aa8e73e983a",
    "lastScheduledRunId": null,
    "lastSuccessfullyExecutedCode": "# Create a new dataframe with the first 30 entries of the initial dataframe, starting from index 1\ndata_first_30 = data.iloc[0:30]\n\n# Display the new dataframe\ndata_first_30",
    "outputsMetadata": {
     "0": {
      "height": 543,
      "type": "dataFrame"
     }
    },
    "visualizeDataframe": false
   },
   "outputs": [
    {
     "data": {
      "text/html": [
       "<div>\n",
       "<style scoped>\n",
       "    .dataframe tbody tr th:only-of-type {\n",
       "        vertical-align: middle;\n",
       "    }\n",
       "\n",
       "    .dataframe tbody tr th {\n",
       "        vertical-align: top;\n",
       "    }\n",
       "\n",
       "    .dataframe thead th {\n",
       "        text-align: right;\n",
       "    }\n",
       "</style>\n",
       "<table border=\"1\" class=\"dataframe\">\n",
       "  <thead>\n",
       "    <tr style=\"text-align: right;\">\n",
       "      <th></th>\n",
       "      <th>Title</th>\n",
       "      <th>Price</th>\n",
       "      <th>Location</th>\n",
       "      <th>Link</th>\n",
       "    </tr>\n",
       "  </thead>\n",
       "  <tbody>\n",
       "  </tbody>\n",
       "</table>\n",
       "</div>"
      ],
      "text/plain": [
       "Empty DataFrame\n",
       "Columns: [Title, Price, Location, Link]\n",
       "Index: []"
      ]
     },
     "execution_count": 6,
     "metadata": {},
     "output_type": "execute_result"
    }
   ],
   "source": [
    "# Create a new dataframe with the first 30 entries of the initial dataframe, starting from index 1\n",
    "data_first_30 = data.iloc[0:30]\n",
    "\n",
    "# Display the new dataframe\n",
    "data_first_30"
   ]
  },
  {
   "cell_type": "code",
   "execution_count": 7,
   "id": "3e491629-2617-487b-986e-40cc9ce4593f",
   "metadata": {
    "collapsed": false,
    "executionCancelledAt": null,
    "executionTime": 3616,
    "jupyter": {
     "outputs_hidden": false,
     "source_hidden": false
    },
    "lastExecutedAt": 1732667650236,
    "lastExecutedByKernel": "a93fa588-26c3-49f2-b7d9-0aa8e73e983a",
    "lastScheduledRunId": null,
    "lastSuccessfullyExecutedCode": "import pandas as pd\nimport requests\nfrom bs4 import BeautifulSoup\nfrom geopy.geocoders import Nominatim\nimport re\n\n# Function to extract street address from the ad page\ndef extract_street_address(ad_url):\n    response = requests.get(ad_url)\n    soup = BeautifulSoup(response.content, 'html.parser')\n    \n    street_address = None\n    address_tag = soup.find('div', class_='mapaddress')\n    if address_tag:\n        street_address = address_tag.get_text(strip=True)\n    \n    return street_address\n\n# Add new columns for street address to the dataframe\ndata_first_30['Street address'] = None\n\n# Iterate over each row in the dataframe and update with street address\nfor index, row in data_first_30.iterrows():\n    ad_url = row['Link']\n    street_address = extract_street_address(ad_url)\n    \n    if not street_address:\n        street_address = row['Title']\n    \n    data_first_30.at[index, 'Street address'] = street_address\n    \n\n# Display the updated dataframe\ndata_first_30",
    "outputsMetadata": {
     "0": {
      "height": 543,
      "type": "dataFrame"
     }
    }
   },
   "outputs": [
    {
     "data": {
      "text/html": [
       "<div>\n",
       "<style scoped>\n",
       "    .dataframe tbody tr th:only-of-type {\n",
       "        vertical-align: middle;\n",
       "    }\n",
       "\n",
       "    .dataframe tbody tr th {\n",
       "        vertical-align: top;\n",
       "    }\n",
       "\n",
       "    .dataframe thead th {\n",
       "        text-align: right;\n",
       "    }\n",
       "</style>\n",
       "<table border=\"1\" class=\"dataframe\">\n",
       "  <thead>\n",
       "    <tr style=\"text-align: right;\">\n",
       "      <th></th>\n",
       "      <th>Title</th>\n",
       "      <th>Price</th>\n",
       "      <th>Location</th>\n",
       "      <th>Link</th>\n",
       "      <th>Street address</th>\n",
       "    </tr>\n",
       "  </thead>\n",
       "  <tbody>\n",
       "  </tbody>\n",
       "</table>\n",
       "</div>"
      ],
      "text/plain": [
       "Empty DataFrame\n",
       "Columns: [Title, Price, Location, Link, Street address]\n",
       "Index: []"
      ]
     },
     "execution_count": 7,
     "metadata": {},
     "output_type": "execute_result"
    }
   ],
   "source": [
    "import pandas as pd\n",
    "import requests\n",
    "from bs4 import BeautifulSoup\n",
    "from geopy.geocoders import Nominatim\n",
    "import re\n",
    "\n",
    "# Function to extract street address from the ad page\n",
    "def extract_street_address(ad_url):\n",
    "    response = requests.get(ad_url)\n",
    "    soup = BeautifulSoup(response.content, 'html.parser')\n",
    "    \n",
    "    street_address = None\n",
    "    address_tag = soup.find('div', class_='mapaddress')\n",
    "    if address_tag:\n",
    "        street_address = address_tag.get_text(strip=True)\n",
    "    \n",
    "    return street_address\n",
    "\n",
    "# Add new columns for street address to the dataframe\n",
    "data_first_30['Street address'] = None\n",
    "\n",
    "# Iterate over each row in the dataframe and update with street address\n",
    "for index, row in data_first_30.iterrows():\n",
    "    ad_url = row['Link']\n",
    "    street_address = extract_street_address(ad_url)\n",
    "    \n",
    "    if not street_address:\n",
    "        street_address = row['Title']\n",
    "    \n",
    "    data_first_30.at[index, 'Street address'] = street_address\n",
    "    \n",
    "\n",
    "# Display the updated dataframe\n",
    "data_first_30"
   ]
  },
  {
   "cell_type": "code",
   "execution_count": null,
   "id": "8a3bd28b-b130-4d22-ad6e-29e1647ba493",
   "metadata": {
    "executionCancelledAt": null,
    "executionTime": 2532,
    "lastExecutedAt": 1732667661817,
    "lastExecutedByKernel": "a93fa588-26c3-49f2-b7d9-0aa8e73e983a",
    "lastScheduledRunId": null,
    "lastSuccessfullyExecutedCode": "import re\nimport pandas as pd\nimport requests\nfrom bs4 import BeautifulSoup\n\n# Function to extract numbers before 'BR', 'Ba', 'bath', 'bathroom', and 'bedroom' from a given URL\ndef extract_bed_bath_from_link(url):\n    try:\n        response = requests.get(url)\n        if response.status_code == 200:\n            soup = BeautifulSoup(response.content, 'html.parser')\n            text = soup.get_text()\n            bed_match = re.search(r'(\\d+)\\s*(BR|Bedroom|Bedrooms|-Bed)', text, re.IGNORECASE)\n            bath_match = re.search(r'(\\d+)\\s*(Ba|Bath|Bathroom|Bathrooms|-Bath)', text, re.IGNORECASE)\n            beds = int(bed_match.group(1)) if bed_match else None\n            baths = int(bath_match.group(1)) if bath_match else None\n            return beds, baths\n        else:\n            return None, None\n    except Exception as e:\n        return None, None\n\n# Apply the function to the 'Link' column of the first 30 ads\ndata_first_30[['No. Beds', 'No. Baths']] = data_first_30['Link'].apply(lambda x: pd.Series(extract_bed_bath_from_link(x)))\n\n# Display the updated dataframe\ndata_first_30.head(30)",
    "outputsMetadata": {
     "0": {
      "height": 543,
      "type": "dataFrame"
     }
    }
   },
   "outputs": [
    {
     "ename": "ValueError",
     "evalue": "Columns must be same length as key",
     "output_type": "error",
     "traceback": [
      "\u001b[0;31m---------------------------------------------------------------------------\u001b[0m",
      "\u001b[0;31mValueError\u001b[0m                                Traceback (most recent call last)",
      "\u001b[0;32m/var/folders/5h/wnfgmyyx12x9xfdb_csyk7y80000gn/T/ipykernel_3183/1626729096.py\u001b[0m in \u001b[0;36m?\u001b[0;34m()\u001b[0m\n\u001b[1;32m     20\u001b[0m     \u001b[0;32mexcept\u001b[0m \u001b[0mException\u001b[0m \u001b[0;32mas\u001b[0m \u001b[0me\u001b[0m\u001b[0;34m:\u001b[0m\u001b[0;34m\u001b[0m\u001b[0;34m\u001b[0m\u001b[0m\n\u001b[1;32m     21\u001b[0m         \u001b[0;32mreturn\u001b[0m \u001b[0;32mNone\u001b[0m\u001b[0;34m,\u001b[0m \u001b[0;32mNone\u001b[0m\u001b[0;34m\u001b[0m\u001b[0;34m\u001b[0m\u001b[0m\n\u001b[1;32m     22\u001b[0m \u001b[0;34m\u001b[0m\u001b[0m\n\u001b[1;32m     23\u001b[0m \u001b[0;31m# Apply the function to the 'Link' column of the first 30 ads\u001b[0m\u001b[0;34m\u001b[0m\u001b[0;34m\u001b[0m\u001b[0m\n\u001b[0;32m---> 24\u001b[0;31m \u001b[0mdata_first_30\u001b[0m\u001b[0;34m[\u001b[0m\u001b[0;34m[\u001b[0m\u001b[0;34m'No. Beds'\u001b[0m\u001b[0;34m,\u001b[0m \u001b[0;34m'No. Baths'\u001b[0m\u001b[0;34m]\u001b[0m\u001b[0;34m]\u001b[0m \u001b[0;34m=\u001b[0m \u001b[0mdata_first_30\u001b[0m\u001b[0;34m[\u001b[0m\u001b[0;34m'Link'\u001b[0m\u001b[0;34m]\u001b[0m\u001b[0;34m.\u001b[0m\u001b[0mapply\u001b[0m\u001b[0;34m(\u001b[0m\u001b[0;32mlambda\u001b[0m \u001b[0mx\u001b[0m\u001b[0;34m:\u001b[0m \u001b[0mpd\u001b[0m\u001b[0;34m.\u001b[0m\u001b[0mSeries\u001b[0m\u001b[0;34m(\u001b[0m\u001b[0mextract_bed_bath_from_link\u001b[0m\u001b[0;34m(\u001b[0m\u001b[0mx\u001b[0m\u001b[0;34m)\u001b[0m\u001b[0;34m)\u001b[0m\u001b[0;34m)\u001b[0m\u001b[0;34m\u001b[0m\u001b[0;34m\u001b[0m\u001b[0m\n\u001b[0m\u001b[1;32m     25\u001b[0m \u001b[0;34m\u001b[0m\u001b[0m\n\u001b[1;32m     26\u001b[0m \u001b[0;31m# Display the updated dataframe\u001b[0m\u001b[0;34m\u001b[0m\u001b[0;34m\u001b[0m\u001b[0m\n\u001b[1;32m     27\u001b[0m \u001b[0mdata_first_30\u001b[0m\u001b[0;34m.\u001b[0m\u001b[0mhead\u001b[0m\u001b[0;34m(\u001b[0m\u001b[0;36m30\u001b[0m\u001b[0;34m)\u001b[0m\u001b[0;34m\u001b[0m\u001b[0;34m\u001b[0m\u001b[0m\n",
      "\u001b[0;32m/Library/Frameworks/Python.framework/Versions/3.12/lib/python3.12/site-packages/pandas/core/frame.py\u001b[0m in \u001b[0;36m?\u001b[0;34m(self, key, value)\u001b[0m\n\u001b[1;32m   4295\u001b[0m \u001b[0;34m\u001b[0m\u001b[0m\n\u001b[1;32m   4296\u001b[0m         \u001b[0;32mif\u001b[0m \u001b[0misinstance\u001b[0m\u001b[0;34m(\u001b[0m\u001b[0mkey\u001b[0m\u001b[0;34m,\u001b[0m \u001b[0mDataFrame\u001b[0m\u001b[0;34m)\u001b[0m \u001b[0;32mor\u001b[0m \u001b[0mgetattr\u001b[0m\u001b[0;34m(\u001b[0m\u001b[0mkey\u001b[0m\u001b[0;34m,\u001b[0m \u001b[0;34m\"ndim\"\u001b[0m\u001b[0;34m,\u001b[0m \u001b[0;32mNone\u001b[0m\u001b[0;34m)\u001b[0m \u001b[0;34m==\u001b[0m \u001b[0;36m2\u001b[0m\u001b[0;34m:\u001b[0m\u001b[0;34m\u001b[0m\u001b[0;34m\u001b[0m\u001b[0m\n\u001b[1;32m   4297\u001b[0m             \u001b[0mself\u001b[0m\u001b[0;34m.\u001b[0m\u001b[0m_setitem_frame\u001b[0m\u001b[0;34m(\u001b[0m\u001b[0mkey\u001b[0m\u001b[0;34m,\u001b[0m \u001b[0mvalue\u001b[0m\u001b[0;34m)\u001b[0m\u001b[0;34m\u001b[0m\u001b[0;34m\u001b[0m\u001b[0m\n\u001b[1;32m   4298\u001b[0m         \u001b[0;32melif\u001b[0m \u001b[0misinstance\u001b[0m\u001b[0;34m(\u001b[0m\u001b[0mkey\u001b[0m\u001b[0;34m,\u001b[0m \u001b[0;34m(\u001b[0m\u001b[0mSeries\u001b[0m\u001b[0;34m,\u001b[0m \u001b[0mnp\u001b[0m\u001b[0;34m.\u001b[0m\u001b[0mndarray\u001b[0m\u001b[0;34m,\u001b[0m \u001b[0mlist\u001b[0m\u001b[0;34m,\u001b[0m \u001b[0mIndex\u001b[0m\u001b[0;34m)\u001b[0m\u001b[0;34m)\u001b[0m\u001b[0;34m:\u001b[0m\u001b[0;34m\u001b[0m\u001b[0;34m\u001b[0m\u001b[0m\n\u001b[0;32m-> 4299\u001b[0;31m             \u001b[0mself\u001b[0m\u001b[0;34m.\u001b[0m\u001b[0m_setitem_array\u001b[0m\u001b[0;34m(\u001b[0m\u001b[0mkey\u001b[0m\u001b[0;34m,\u001b[0m \u001b[0mvalue\u001b[0m\u001b[0;34m)\u001b[0m\u001b[0;34m\u001b[0m\u001b[0;34m\u001b[0m\u001b[0m\n\u001b[0m\u001b[1;32m   4300\u001b[0m         \u001b[0;32melif\u001b[0m \u001b[0misinstance\u001b[0m\u001b[0;34m(\u001b[0m\u001b[0mvalue\u001b[0m\u001b[0;34m,\u001b[0m \u001b[0mDataFrame\u001b[0m\u001b[0;34m)\u001b[0m\u001b[0;34m:\u001b[0m\u001b[0;34m\u001b[0m\u001b[0;34m\u001b[0m\u001b[0m\n\u001b[1;32m   4301\u001b[0m             \u001b[0mself\u001b[0m\u001b[0;34m.\u001b[0m\u001b[0m_set_item_frame_value\u001b[0m\u001b[0;34m(\u001b[0m\u001b[0mkey\u001b[0m\u001b[0;34m,\u001b[0m \u001b[0mvalue\u001b[0m\u001b[0;34m)\u001b[0m\u001b[0;34m\u001b[0m\u001b[0;34m\u001b[0m\u001b[0m\n\u001b[1;32m   4302\u001b[0m         elif (\n",
      "\u001b[0;32m/Library/Frameworks/Python.framework/Versions/3.12/lib/python3.12/site-packages/pandas/core/frame.py\u001b[0m in \u001b[0;36m?\u001b[0;34m(self, key, value)\u001b[0m\n\u001b[1;32m   4354\u001b[0m                 \u001b[0mvalue\u001b[0m \u001b[0;34m=\u001b[0m \u001b[0mDataFrame\u001b[0m\u001b[0;34m(\u001b[0m\u001b[0mvalue\u001b[0m\u001b[0;34m)\u001b[0m\u001b[0;34m.\u001b[0m\u001b[0mvalues\u001b[0m\u001b[0;34m\u001b[0m\u001b[0;34m\u001b[0m\u001b[0m\n\u001b[1;32m   4355\u001b[0m                 \u001b[0;32mreturn\u001b[0m \u001b[0mself\u001b[0m\u001b[0;34m.\u001b[0m\u001b[0m_setitem_array\u001b[0m\u001b[0;34m(\u001b[0m\u001b[0mkey\u001b[0m\u001b[0;34m,\u001b[0m \u001b[0mvalue\u001b[0m\u001b[0;34m)\u001b[0m\u001b[0;34m\u001b[0m\u001b[0;34m\u001b[0m\u001b[0m\n\u001b[1;32m   4356\u001b[0m \u001b[0;34m\u001b[0m\u001b[0m\n\u001b[1;32m   4357\u001b[0m             \u001b[0;32melse\u001b[0m\u001b[0;34m:\u001b[0m\u001b[0;34m\u001b[0m\u001b[0;34m\u001b[0m\u001b[0m\n\u001b[0;32m-> 4358\u001b[0;31m                 \u001b[0mself\u001b[0m\u001b[0;34m.\u001b[0m\u001b[0m_iset_not_inplace\u001b[0m\u001b[0;34m(\u001b[0m\u001b[0mkey\u001b[0m\u001b[0;34m,\u001b[0m \u001b[0mvalue\u001b[0m\u001b[0;34m)\u001b[0m\u001b[0;34m\u001b[0m\u001b[0;34m\u001b[0m\u001b[0m\n\u001b[0m",
      "\u001b[0;32m/Library/Frameworks/Python.framework/Versions/3.12/lib/python3.12/site-packages/pandas/core/frame.py\u001b[0m in \u001b[0;36m?\u001b[0;34m(self, key, value)\u001b[0m\n\u001b[1;32m   4373\u001b[0m                 \u001b[0;32mreturn\u001b[0m \u001b[0mobj\u001b[0m\u001b[0;34m[\u001b[0m\u001b[0mi\u001b[0m\u001b[0;34m]\u001b[0m\u001b[0;34m\u001b[0m\u001b[0;34m\u001b[0m\u001b[0m\n\u001b[1;32m   4374\u001b[0m \u001b[0;34m\u001b[0m\u001b[0m\n\u001b[1;32m   4375\u001b[0m         \u001b[0;32mif\u001b[0m \u001b[0mself\u001b[0m\u001b[0;34m.\u001b[0m\u001b[0mcolumns\u001b[0m\u001b[0;34m.\u001b[0m\u001b[0mis_unique\u001b[0m\u001b[0;34m:\u001b[0m\u001b[0;34m\u001b[0m\u001b[0;34m\u001b[0m\u001b[0m\n\u001b[1;32m   4376\u001b[0m             \u001b[0;32mif\u001b[0m \u001b[0mnp\u001b[0m\u001b[0;34m.\u001b[0m\u001b[0mshape\u001b[0m\u001b[0;34m(\u001b[0m\u001b[0mvalue\u001b[0m\u001b[0;34m)\u001b[0m\u001b[0;34m[\u001b[0m\u001b[0;34m-\u001b[0m\u001b[0;36m1\u001b[0m\u001b[0;34m]\u001b[0m \u001b[0;34m!=\u001b[0m \u001b[0mlen\u001b[0m\u001b[0;34m(\u001b[0m\u001b[0mkey\u001b[0m\u001b[0;34m)\u001b[0m\u001b[0;34m:\u001b[0m\u001b[0;34m\u001b[0m\u001b[0;34m\u001b[0m\u001b[0m\n\u001b[0;32m-> 4377\u001b[0;31m                 \u001b[0;32mraise\u001b[0m \u001b[0mValueError\u001b[0m\u001b[0;34m(\u001b[0m\u001b[0;34m\"Columns must be same length as key\"\u001b[0m\u001b[0;34m)\u001b[0m\u001b[0;34m\u001b[0m\u001b[0;34m\u001b[0m\u001b[0m\n\u001b[0m\u001b[1;32m   4378\u001b[0m \u001b[0;34m\u001b[0m\u001b[0m\n\u001b[1;32m   4379\u001b[0m             \u001b[0;32mfor\u001b[0m \u001b[0mi\u001b[0m\u001b[0;34m,\u001b[0m \u001b[0mcol\u001b[0m \u001b[0;32min\u001b[0m \u001b[0menumerate\u001b[0m\u001b[0;34m(\u001b[0m\u001b[0mkey\u001b[0m\u001b[0;34m)\u001b[0m\u001b[0;34m:\u001b[0m\u001b[0;34m\u001b[0m\u001b[0;34m\u001b[0m\u001b[0m\n\u001b[1;32m   4380\u001b[0m                 \u001b[0mself\u001b[0m\u001b[0;34m[\u001b[0m\u001b[0mcol\u001b[0m\u001b[0;34m]\u001b[0m \u001b[0;34m=\u001b[0m \u001b[0migetitem\u001b[0m\u001b[0;34m(\u001b[0m\u001b[0mvalue\u001b[0m\u001b[0;34m,\u001b[0m \u001b[0mi\u001b[0m\u001b[0;34m)\u001b[0m\u001b[0;34m\u001b[0m\u001b[0;34m\u001b[0m\u001b[0m\n",
      "\u001b[0;31mValueError\u001b[0m: Columns must be same length as key"
     ]
    }
   ],
   "source": [
    "import re\n",
    "import pandas as pd\n",
    "import requests\n",
    "from bs4 import BeautifulSoup\n",
    "\n",
    "# Function to extract numbers before 'BR', 'Ba', 'bath', 'bathroom', and 'bedroom' from a given URL\n",
    "def extract_bed_bath_from_link(url):\n",
    "    try:\n",
    "        response = requests.get(url)\n",
    "        if response.status_code == 200:\n",
    "            soup = BeautifulSoup(response.content, 'html.parser')\n",
    "            text = soup.get_text()\n",
    "            bed_match = re.search(r'(\\d+)\\s*(BR|Bedroom|Bedrooms|-Bed)', text, re.IGNORECASE)\n",
    "            bath_match = re.search(r'(\\d+)\\s*(Ba|Bath|Bathroom|Bathrooms|-Bath)', text, re.IGNORECASE)\n",
    "            beds = int(bed_match.group(1)) if bed_match else None\n",
    "            baths = int(bath_match.group(1)) if bath_match else None\n",
    "            return beds, baths\n",
    "        else:\n",
    "            return None, None\n",
    "    except Exception as e:\n",
    "        return None, None\n",
    "\n",
    "# Apply the function to the 'Link' column of the first 30 ads\n",
    "data_first_30[['No. Beds', 'No. Baths']] = data_first_30['Link'].apply(lambda x: pd.Series(extract_bed_bath_from_link(x)))\n",
    "\n",
    "# Display the updated dataframe\n",
    "data_first_30.head(30)"
   ]
  },
  {
   "cell_type": "code",
   "execution_count": null,
   "id": "2409ebc4-94cc-4b04-98fe-e3f1046f625f",
   "metadata": {
    "executionCancelledAt": null,
    "executionTime": 2610,
    "lastExecutedAt": 1732667674685,
    "lastExecutedByKernel": "a93fa588-26c3-49f2-b7d9-0aa8e73e983a",
    "lastScheduledRunId": null,
    "lastSuccessfullyExecutedCode": "import re\nimport pandas as pd\nimport requests\nfrom bs4 import BeautifulSoup\n\n# Function to extract numbers before 'BR' and 'Ba' from a given URL\ndef extract_bed_bath_from_link(url):\n    try:\n        response = requests.get(url)\n        if response.status_code == 200:\n            soup = BeautifulSoup(response.content, 'html.parser')\n            text = soup.get_text()\n            bed_match = re.search(r'(\\d+)\\s*BR', text)\n            bath_match = re.search(r'(\\d+)\\s*Ba', text)\n            beds = int(bed_match.group(1)) if bed_match else None\n            baths = int(bath_match.group(1)) if bath_match else None\n            return beds, baths\n        else:\n            return None, None\n    except Exception as e:\n        return None, None\n\n# Apply the function to the 'Link' column of the first 30 ads\ndata_first_30[['No. Beds', 'No. Baths']] = data_first_30['Link'].apply(lambda x: pd.Series(extract_bed_bath_from_link(x)))\n\n\n# Display the updated dataframe\ndata_first_30.head(30)",
    "outputsMetadata": {
     "0": {
      "height": 543,
      "type": "dataFrame"
     }
    }
   },
   "outputs": [],
   "source": [
    "import re\n",
    "import pandas as pd\n",
    "import requests\n",
    "from bs4 import BeautifulSoup\n",
    "\n",
    "# Function to extract numbers before 'BR' and 'Ba' from a given URL\n",
    "def extract_bed_bath_from_link(url):\n",
    "    try:\n",
    "        response = requests.get(url)\n",
    "        if response.status_code == 200:\n",
    "            soup = BeautifulSoup(response.content, 'html.parser')\n",
    "            text = soup.get_text()\n",
    "            bed_match = re.search(r'(\\d+)\\s*BR', text)\n",
    "            bath_match = re.search(r'(\\d+)\\s*Ba', text)\n",
    "            beds = int(bed_match.group(1)) if bed_match else None\n",
    "            baths = int(bath_match.group(1)) if bath_match else None\n",
    "            return beds, baths\n",
    "        else:\n",
    "            return None, None\n",
    "    except Exception as e:\n",
    "        return None, None\n",
    "\n",
    "# Apply the function to the 'Link' column of the first 30 ads\n",
    "data_first_30[['No. Beds', 'No. Baths']] = data_first_30['Link'].apply(lambda x: pd.Series(extract_bed_bath_from_link(x)))\n",
    "\n",
    "\n",
    "# Display the updated dataframe\n",
    "data_first_30.head(30)"
   ]
  },
  {
   "cell_type": "code",
   "execution_count": null,
   "id": "bbd861ce-41c7-4a9b-a7b9-e7776416d4f6",
   "metadata": {
    "executionCancelledAt": null,
    "executionTime": 2591,
    "lastExecutedAt": 1732667691844,
    "lastExecutedByKernel": "a93fa588-26c3-49f2-b7d9-0aa8e73e983a",
    "lastScheduledRunId": null,
    "lastSuccessfullyExecutedCode": "# Function to extract square footage from a given URL\ndef extract_sqft_from_link(url):\n    try:\n        response = requests.get(url)\n        if response.status_code == 200:\n            soup = BeautifulSoup(response.content, 'html.parser')\n            text = soup.get_text()\n            sqft_match = re.search(r'(\\d+)\\s*ft2', text)\n            sqft = int(sqft_match.group(1)) if sqft_match else None\n            return sqft\n        else:\n            return None\n    except Exception as e:\n        return None\n\n# Apply the function to the 'Link' column of the first 30 ads\ndata_first_30['#sqft'] = data_first_30['Link'].apply(extract_sqft_from_link)\n\n# Display the updated dataframe\ndata_first_30.head(30)",
    "outputsMetadata": {
     "0": {
      "height": 543,
      "type": "dataFrame"
     }
    }
   },
   "outputs": [],
   "source": [
    "# Function to extract square footage from a given URL\n",
    "def extract_sqft_from_link(url):\n",
    "    try:\n",
    "        response = requests.get(url)\n",
    "        if response.status_code == 200:\n",
    "            soup = BeautifulSoup(response.content, 'html.parser')\n",
    "            text = soup.get_text()\n",
    "            sqft_match = re.search(r'(\\d+)\\s*ft2', text)\n",
    "            sqft = int(sqft_match.group(1)) if sqft_match else None\n",
    "            return sqft\n",
    "        else:\n",
    "            return None\n",
    "    except Exception as e:\n",
    "        return None\n",
    "\n",
    "# Apply the function to the 'Link' column of the first 30 ads\n",
    "data_first_30['#sqft'] = data_first_30['Link'].apply(extract_sqft_from_link)\n",
    "\n",
    "# Display the updated dataframe\n",
    "data_first_30.head(30)"
   ]
  },
  {
   "cell_type": "code",
   "execution_count": null,
   "id": "455040a1-e2c2-4fe6-bf73-a21d3a003aaf",
   "metadata": {
    "executionCancelledAt": null,
    "executionTime": 2546,
    "lastExecutedAt": 1732667697816,
    "lastExecutedByKernel": "a93fa588-26c3-49f2-b7d9-0aa8e73e983a",
    "lastScheduledRunId": null,
    "lastSuccessfullyExecutedCode": "# Function to extract the word before 'smoking' from a given URL\ndef extract_word_before_smoking(url):\n    try:\n        response = requests.get(url)\n        if response.status_code == 200:\n            soup = BeautifulSoup(response.content, 'html.parser')\n            text = soup.get_text()\n            smoking_match = re.search(r'(\\w+)\\s+smoking', text, re.IGNORECASE)\n            word_before_smoking = smoking_match.group(1).strip() if smoking_match else None\n            return word_before_smoking\n        else:\n            return None\n    except Exception as e:\n        return None\n\n# Apply the function to the 'Link' column of the first 30 ads\ndata_first_30['Smoking Allowed'] = data_first_30['Link'].apply(extract_word_before_smoking)\n\n# Replace 'no' with 'No' and any other word with 'Yes'\ndata_first_30['Smoking Allowed'] = data_first_30['Smoking Allowed'].apply(lambda x: 'No' if x and x.lower() == 'no' else 'Yes')\n\n# Display the updated dataframe\ndata_first_30.head(30)",
    "outputsMetadata": {
     "0": {
      "height": 543,
      "type": "dataFrame"
     }
    }
   },
   "outputs": [],
   "source": [
    "# Function to extract the word before 'smoking' from a given URL\n",
    "def extract_word_before_smoking(url):\n",
    "    try:\n",
    "        response = requests.get(url)\n",
    "        if response.status_code == 200:\n",
    "            soup = BeautifulSoup(response.content, 'html.parser')\n",
    "            text = soup.get_text()\n",
    "            smoking_match = re.search(r'(\\w+)\\s+smoking', text, re.IGNORECASE)\n",
    "            word_before_smoking = smoking_match.group(1).strip() if smoking_match else None\n",
    "            return word_before_smoking\n",
    "        else:\n",
    "            return None\n",
    "    except Exception as e:\n",
    "        return None\n",
    "\n",
    "# Apply the function to the 'Link' column of the first 30 ads\n",
    "data_first_30['Smoking Allowed'] = data_first_30['Link'].apply(extract_word_before_smoking)\n",
    "\n",
    "# Replace 'no' with 'No' and any other word with 'Yes'\n",
    "data_first_30['Smoking Allowed'] = data_first_30['Smoking Allowed'].apply(lambda x: 'No' if x and x.lower() == 'no' else 'Yes')\n",
    "\n",
    "# Display the updated dataframe\n",
    "data_first_30.head(30)"
   ]
  },
  {
   "cell_type": "code",
   "execution_count": null,
   "id": "7b305837-857c-478f-8276-4fce8ec5f7c4",
   "metadata": {
    "collapsed": false,
    "executionCancelledAt": null,
    "executionTime": 2553,
    "jupyter": {
     "outputs_hidden": false,
     "source_hidden": false
    },
    "lastExecutedAt": 1732667704201,
    "lastExecutedByKernel": "a93fa588-26c3-49f2-b7d9-0aa8e73e983a",
    "lastScheduledRunId": null,
    "lastSuccessfullyExecutedCode": "import re\nimport requests\nfrom bs4 import BeautifulSoup\n\n# Function to extract the geo.position from a given URL\ndef extract_geo_position(url):\n    try:\n        response = requests.get(url)\n        if response.status_code == 200:\n            soup = BeautifulSoup(response.content, 'html.parser')\n            # Find all meta tags\n            meta_tags = soup.find_all('meta')\n            for meta in meta_tags:\n                if meta.get('name') == 'geo.position':\n                    geo_position = meta.get('content')\n                    return geo_position\n        return None\n    except Exception as e:\n        return None\n\n# Apply the function to the 'Link' column of the first 30 ads\ndata_first_30['Latitude;Longitude'] = data_first_30['Link'].apply(extract_geo_position)\n\n# Display the updated dataframe\ndata_first_30.head(30)",
    "outputsMetadata": {
     "0": {
      "height": 543,
      "type": "dataFrame"
     }
    }
   },
   "outputs": [],
   "source": [
    "import re\n",
    "import requests\n",
    "from bs4 import BeautifulSoup\n",
    "\n",
    "# Function to extract the geo.position from a given URL\n",
    "def extract_geo_position(url):\n",
    "    try:\n",
    "        response = requests.get(url)\n",
    "        if response.status_code == 200:\n",
    "            soup = BeautifulSoup(response.content, 'html.parser')\n",
    "            # Find all meta tags\n",
    "            meta_tags = soup.find_all('meta')\n",
    "            for meta in meta_tags:\n",
    "                if meta.get('name') == 'geo.position':\n",
    "                    geo_position = meta.get('content')\n",
    "                    return geo_position\n",
    "        return None\n",
    "    except Exception as e:\n",
    "        return None\n",
    "\n",
    "# Apply the function to the 'Link' column of the first 30 ads\n",
    "data_first_30['Latitude;Longitude'] = data_first_30['Link'].apply(extract_geo_position)\n",
    "\n",
    "# Display the updated dataframe\n",
    "data_first_30.head(30)"
   ]
  },
  {
   "cell_type": "code",
   "execution_count": null,
   "id": "f74503b3-6508-4448-9606-74ff8e97cd29",
   "metadata": {
    "executionCancelledAt": null,
    "executionTime": 2822,
    "lastExecutedAt": 1732667711713,
    "lastExecutedByKernel": "a93fa588-26c3-49f2-b7d9-0aa8e73e983a",
    "lastScheduledRunId": null,
    "lastSuccessfullyExecutedCode": "# Function to extract the rental period from a given URL\ndef extract_rental_period(url):\n    try:\n        response = requests.get(url)\n        if response.status_code == 200:\n            soup = BeautifulSoup(response.content, 'html.parser')\n            # Find the a tag with href containing \"rent_period=\"\n            rent_period_a = soup.find('a', href=re.compile(r'rent_period=\\d+'))\n            if rent_period_a:\n                # Extract the rent period value from the href\n                rent_period = re.search(r'rent_period=(\\d+)', rent_period_a['href'])\n                if rent_period:\n                    # Map the rent period number to a descriptive term\n                    rent_period_map = {\n                        '1': 'daily',\n                        '2': 'weekly',\n                        '3': 'monthly',\n                        '4': 'yearly'\n                    }\n                    return rent_period_map.get(rent_period.group(1), 'unknown')\n        return None\n    except Exception as e:\n        return None\n\n# Apply the function to the 'Link' column of the first 30 ads\ndata_first_30['Rental Period'] = data_first_30['Link'].apply(extract_rental_period)\n\n# Display the updated dataframe\ndata_first_30.head(30)",
    "outputsMetadata": {
     "0": {
      "height": 543,
      "type": "dataFrame"
     }
    }
   },
   "outputs": [],
   "source": [
    "# Function to extract the rental period from a given URL\n",
    "def extract_rental_period(url):\n",
    "    try:\n",
    "        response = requests.get(url)\n",
    "        if response.status_code == 200:\n",
    "            soup = BeautifulSoup(response.content, 'html.parser')\n",
    "            # Find the a tag with href containing \"rent_period=\"\n",
    "            rent_period_a = soup.find('a', href=re.compile(r'rent_period=\\d+'))\n",
    "            if rent_period_a:\n",
    "                # Extract the rent period value from the href\n",
    "                rent_period = re.search(r'rent_period=(\\d+)', rent_period_a['href'])\n",
    "                if rent_period:\n",
    "                    # Map the rent period number to a descriptive term\n",
    "                    rent_period_map = {\n",
    "                        '1': 'daily',\n",
    "                        '2': 'weekly',\n",
    "                        '3': 'monthly',\n",
    "                        '4': 'yearly'\n",
    "                    }\n",
    "                    return rent_period_map.get(rent_period.group(1), 'unknown')\n",
    "        return None\n",
    "    except Exception as e:\n",
    "        return None\n",
    "\n",
    "# Apply the function to the 'Link' column of the first 30 ads\n",
    "data_first_30['Rental Period'] = data_first_30['Link'].apply(extract_rental_period)\n",
    "\n",
    "# Display the updated dataframe\n",
    "data_first_30.head(30)"
   ]
  },
  {
   "cell_type": "code",
   "execution_count": null,
   "id": "f72c0c3d-b0d0-4581-ba6b-00ced89da215",
   "metadata": {
    "executionCancelledAt": null,
    "executionTime": 2718,
    "lastExecutedAt": 1732667719806,
    "lastExecutedByKernel": "a93fa588-26c3-49f2-b7d9-0aa8e73e983a",
    "lastScheduledRunId": null,
    "lastSuccessfullyExecutedCode": "# Function to extract the posted time from a given URL\ndef extract_posted_time(url):\n    try:\n        response = requests.get(url)\n        if response.status_code == 200:\n            soup = BeautifulSoup(response.content, 'html.parser')\n            # Find the time tag with class \"date timeago\"\n            posted_time_tag = soup.find('time', class_='date timeago')\n            if posted_time_tag:\n                # Extract the datetime attribute from the time tag\n                posted_time = posted_time_tag['datetime']\n                # Extract the date and time in the format \"YYYY-MM-DD HH:MM\"\n                formatted_time = posted_time[:16].replace('T', ' ')\n                return formatted_time\n        return None\n    except Exception as e:\n        return None\n\n# Apply the function to the 'Link' column of the first 30 ads\ndata_first_30['Posted Time'] = data_first_30['Link'].apply(extract_posted_time)\n\n# Display the updated dataframe\ndata_first_30.head(30)",
    "outputsMetadata": {
     "0": {
      "height": 543,
      "type": "dataFrame"
     }
    }
   },
   "outputs": [],
   "source": [
    "# Function to extract the posted time from a given URL\n",
    "def extract_posted_time(url):\n",
    "    try:\n",
    "        response = requests.get(url)\n",
    "        if response.status_code == 200:\n",
    "            soup = BeautifulSoup(response.content, 'html.parser')\n",
    "            # Find the time tag with class \"date timeago\"\n",
    "            posted_time_tag = soup.find('time', class_='date timeago')\n",
    "            if posted_time_tag:\n",
    "                # Extract the datetime attribute from the time tag\n",
    "                posted_time = posted_time_tag['datetime']\n",
    "                # Extract the date and time in the format \"YYYY-MM-DD HH:MM\"\n",
    "                formatted_time = posted_time[:16].replace('T', ' ')\n",
    "                return formatted_time\n",
    "        return None\n",
    "    except Exception as e:\n",
    "        return None\n",
    "\n",
    "# Apply the function to the 'Link' column of the first 30 ads\n",
    "data_first_30['Posted Time'] = data_first_30['Link'].apply(extract_posted_time)\n",
    "\n",
    "# Display the updated dataframe\n",
    "data_first_30.head(30)"
   ]
  },
  {
   "cell_type": "code",
   "execution_count": null,
   "id": "28b9479d-cc7d-4137-afab-c7a4ba0569d6",
   "metadata": {
    "executionCancelledAt": null,
    "executionTime": 2646,
    "lastExecutedAt": 1732667726985,
    "lastExecutedByKernel": "a93fa588-26c3-49f2-b7d9-0aa8e73e983a",
    "lastScheduledRunId": null,
    "lastSuccessfullyExecutedCode": "# Function to extract the updated time from a given URL\ndef extract_updated_time(url):\n    try:\n        response = requests.get(url)\n        if response.status_code == 200:\n            soup = BeautifulSoup(response.content, 'html.parser')\n            # Find the time tag with class \"date timeago\"\n            updated_time_tag = soup.find('time', class_='date timeago')\n            if updated_time_tag:\n                # Extract the datetime attribute from the time tag\n                updated_time = updated_time_tag['datetime']\n                # Extract the date and time in the format \"YYYY-MM-DD HH:MM\"\n                formatted_time = updated_time[:16].replace('T', ' ')\n                return formatted_time\n        return None\n    except Exception as e:\n        return None\n\n# Apply the function to the 'Link' column of the first 30 ads\ndata_first_30['Updated Time'] = data_first_30['Link'].apply(extract_updated_time)\n\n# Display the updated dataframe\ndata_first_30.head(30)",
    "outputsMetadata": {
     "0": {
      "height": 543,
      "type": "dataFrame"
     }
    }
   },
   "outputs": [],
   "source": [
    "# Function to extract the updated time from a given URL\n",
    "def extract_updated_time(url):\n",
    "    try:\n",
    "        response = requests.get(url)\n",
    "        if response.status_code == 200:\n",
    "            soup = BeautifulSoup(response.content, 'html.parser')\n",
    "            # Find the time tag with class \"date timeago\"\n",
    "            updated_time_tag = soup.find('time', class_='date timeago')\n",
    "            if updated_time_tag:\n",
    "                # Extract the datetime attribute from the time tag\n",
    "                updated_time = updated_time_tag['datetime']\n",
    "                # Extract the date and time in the format \"YYYY-MM-DD HH:MM\"\n",
    "                formatted_time = updated_time[:16].replace('T', ' ')\n",
    "                return formatted_time\n",
    "        return None\n",
    "    except Exception as e:\n",
    "        return None\n",
    "\n",
    "# Apply the function to the 'Link' column of the first 30 ads\n",
    "data_first_30['Updated Time'] = data_first_30['Link'].apply(extract_updated_time)\n",
    "\n",
    "# Display the updated dataframe\n",
    "data_first_30.head(30)"
   ]
  },
  {
   "cell_type": "code",
   "execution_count": null,
   "id": "4906a7f7-c879-4144-aa00-278c4288497a",
   "metadata": {
    "executionCancelledAt": null,
    "executionTime": 2546,
    "lastExecutedAt": 1732667734014,
    "lastExecutedByKernel": "a93fa588-26c3-49f2-b7d9-0aa8e73e983a",
    "lastScheduledRunId": null,
    "lastSuccessfullyExecutedCode": "# Function to extract the posting body/text from a given URL\ndef extract_posting_body(url):\n    try:\n        response = requests.get(url)\n        if response.status_code == 200:\n            soup = BeautifulSoup(response.content, 'html.parser')\n            # Find the div or section that contains the posting body\n            posting_body_tag = soup.find('section', class_='body')\n            if posting_body_tag:\n                # Extract the text content from the posting body\n                posting_body = posting_body_tag.get_text(strip=True)\n                return posting_body\n        return None\n    except Exception as e:\n        return None\n\n# Apply the function to the 'Link' column of the first 30 ads\ndata_first_30['Posting Body'] = data_first_30['Link'].apply(extract_posting_body)\n\n# Display the updated dataframe\ndata_first_30.head(30)",
    "outputsMetadata": {
     "0": {
      "height": 543,
      "type": "dataFrame"
     }
    }
   },
   "outputs": [],
   "source": [
    "# Function to extract the posting body/text from a given URL\n",
    "def extract_posting_body(url):\n",
    "    try:\n",
    "        response = requests.get(url)\n",
    "        if response.status_code == 200:\n",
    "            soup = BeautifulSoup(response.content, 'html.parser')\n",
    "            # Find the div or section that contains the posting body\n",
    "            posting_body_tag = soup.find('section', class_='body')\n",
    "            if posting_body_tag:\n",
    "                # Extract the text content from the posting body\n",
    "                posting_body = posting_body_tag.get_text(strip=True)\n",
    "                return posting_body\n",
    "        return None\n",
    "    except Exception as e:\n",
    "        return None\n",
    "\n",
    "# Apply the function to the 'Link' column of the first 30 ads\n",
    "data_first_30['Posting Body'] = data_first_30['Link'].apply(extract_posting_body)\n",
    "\n",
    "# Display the updated dataframe\n",
    "data_first_30.head(30)"
   ]
  },
  {
   "cell_type": "code",
   "execution_count": null,
   "id": "297ec93e-a2e9-48b7-86c9-c35a21f9bc77",
   "metadata": {
    "executionCancelledAt": null,
    "executionTime": 94,
    "lastExecutedAt": 1732667816059,
    "lastExecutedByKernel": "a93fa588-26c3-49f2-b7d9-0aa8e73e983a",
    "lastScheduledRunId": null,
    "lastSuccessfullyExecutedCode": "# Function to determine if pets are allowed based on the posting body\ndef check_pets_allowed(posting_body):\n    if posting_body:\n        # Check for keywords that indicate pets are allowed\n        keywords = ['pets allowed', 'pet-friendly', 'pets welcome', 'cats allowed', 'dogs allowed']\n        for keyword in keywords:\n            if keyword in posting_body.lower():\n                return 'Yes'\n    return 'No'\n\n# Apply the function to the 'Posting Body' column to create the 'Pets Allowed' column\ndata_first_30['Pets Allowed'] = data_first_30['Posting Body'].apply(check_pets_allowed)\n\n# Display the updated dataframe\ndata_first_30.head(30)",
    "outputsMetadata": {
     "0": {
      "height": 543,
      "type": "dataFrame"
     }
    }
   },
   "outputs": [],
   "source": [
    "# Function to determine if pets are allowed based on the posting body\n",
    "def check_pets_allowed(posting_body):\n",
    "    if posting_body:\n",
    "        # Check for keywords that indicate pets are allowed\n",
    "        keywords = ['pets allowed', 'pet-friendly', 'pets welcome', 'cats allowed', 'dogs allowed']\n",
    "        for keyword in keywords:\n",
    "            if keyword in posting_body.lower():\n",
    "                return 'Yes'\n",
    "    return 'No'\n",
    "\n",
    "# Apply the function to the 'Posting Body' column to create the 'Pets Allowed' column\n",
    "data_first_30['Pets Allowed'] = data_first_30['Posting Body'].apply(check_pets_allowed)\n",
    "\n",
    "# Display the updated dataframe\n",
    "data_first_30.head(30)"
   ]
  },
  {
   "cell_type": "code",
   "execution_count": null,
   "id": "58cbf9ef-75f4-4c4b-a54f-a7a99c4757ce",
   "metadata": {
    "executionCancelledAt": 1732663019018,
    "executionTime": 85,
    "lastExecutedAt": 1732657157862,
    "lastExecutedByKernel": "75747b6c-65b4-4014-b403-c83d5286282f",
    "lastScheduledRunId": null,
    "lastSuccessfullyExecutedCode": "# Function to determine if the listing is furnished based on the posting body\ndef check_furnished(posting_body):\n    if posting_body:\n        # Check for keywords that indicate the listing is furnished\n        keywords = ['furnished', 'fully furnished', 'includes furniture', 'comes with furniture']\n        for keyword in keywords:\n            if keyword in posting_body.lower():\n                return 'Yes'\n    return 'No'\n\n# Apply the function to the 'Posting Body' column to create the 'Furnished' column\ndata_first_30['Furnished'] = data_first_30['Posting Body'].apply(check_furnished)\n\n# Display the updated dataframe\ndata_first_30.head(30)",
    "outputsMetadata": {
     "0": {
      "height": 543,
      "type": "dataFrame"
     }
    }
   },
   "outputs": [],
   "source": [
    "# Function to determine if the listing is furnished based on the posting body\n",
    "def check_furnished(posting_body):\n",
    "    if posting_body:\n",
    "        # Check for keywords that indicate the listing is furnished\n",
    "        keywords = ['furnished', 'fully furnished', 'includes furniture', 'comes with furniture']\n",
    "        for keyword in keywords:\n",
    "            if keyword in posting_body.lower():\n",
    "                return 'Yes'\n",
    "    return 'No'\n",
    "\n",
    "# Apply the function to the 'Posting Body' column to create the 'Furnished' column\n",
    "data_first_30['Furnished'] = data_first_30['Posting Body'].apply(check_furnished)\n",
    "\n",
    "# Display the updated dataframe\n",
    "data_first_30.head(30)"
   ]
  },
  {
   "cell_type": "code",
   "execution_count": null,
   "id": "6ab58748-ea43-46ff-a711-30114756992e",
   "metadata": {
    "executionCancelledAt": null,
    "executionTime": 53,
    "lastExecutedAt": 1732668979682,
    "lastExecutedByKernel": "a93fa588-26c3-49f2-b7d9-0aa8e73e983a",
    "lastScheduledRunId": null,
    "lastSuccessfullyExecutedCode": "# Function to extract 'Availability Date' based on the posting body\ndef extract_availability_date(posting_body):\n    if posting_body:\n        posting_body_lower = posting_body.lower()\n        # Check for the keyword that indicates availability date\n        if 'available now' in posting_body_lower:\n            return 'Available Now'\n        else:\n            # Use regex to find dates in the format 'available dec 1'\n            match = re.search(r'available (\\w+ \\d{1,2})', posting_body_lower)\n            if match:\n                try:\n                    # Parse the date to ensure it's a valid date\n                    date = datetime.strptime(match.group(1), '%b %d')\n                    return date.strftime('%b %d')\n                except ValueError:\n                    return 'Not Specified'\n    return 'Not Specified'\n\n# Apply the function to the 'Posting Body' column to update the 'Availability Date' column\ndata_first_30['Availability Date'] = data_first_30['Posting Body'].apply(extract_availability_date)\n\n# Display the updated dataframe\ndata_first_30.head(30)",
    "outputsMetadata": {
     "0": {
      "height": 543,
      "type": "dataFrame"
     }
    }
   },
   "outputs": [],
   "source": [
    "import re\n",
    "from datetime import datetime\n",
    "\n",
    "# Function to extract 'Availability Date' based on the posting body\n",
    "def extract_availability_date(posting_body):\n",
    "    if posting_body:\n",
    "        posting_body_lower = posting_body.lower()\n",
    "        # Check for the keyword that indicates availability date\n",
    "        if 'available now' in posting_body_lower:\n",
    "            return 'Available Now'\n",
    "        else:\n",
    "            # Use regex to find dates in the format 'available dec 1'\n",
    "            match = re.search(r'available (\\w+ \\d{1,2})', posting_body_lower)\n",
    "            if match:\n",
    "                try:\n",
    "                    # Parse the date to ensure it's a valid date\n",
    "                    date = datetime.strptime(match.group(1), '%b %d')\n",
    "                    return date.strftime('%b %d')\n",
    "                except ValueError:\n",
    "                    return 'Not Specified'\n",
    "    return 'Not Specified'\n",
    "\n",
    "# Apply the function to the 'Posting Body' column to update the 'Availability Date' column\n",
    "data_first_30['Availability Date'] = data_first_30['Posting Body'].apply(extract_availability_date)\n",
    "\n",
    "# Display the updated dataframe\n",
    "data_first_30.head(30)"
   ]
  },
  {
   "cell_type": "markdown",
   "id": "eded039e-16ee-4d8b-a3af-205772eadbc6",
   "metadata": {},
   "source": [
    "2.3 Data Cleaning and EDA"
   ]
  },
  {
   "cell_type": "code",
   "execution_count": null,
   "id": "024e8c66-6197-4ce0-ba66-566f633c10b1",
   "metadata": {
    "executionCancelledAt": null,
    "executionTime": 51,
    "lastExecutedAt": 1732667945547,
    "lastExecutedByKernel": "a93fa588-26c3-49f2-b7d9-0aa8e73e983a",
    "lastScheduledRunId": null,
    "lastSuccessfullyExecutedCode": "# Drop any rows with missing values in the 'Title', 'Price', 'Location', or 'Link' columns\ndata_first_30_cleaned = data_first_30.dropna(subset=['Title', 'Price', 'Location', 'Link'])\n\n# Remove any duplicate rows based on the 'Link' column\ndata_first_30_cleaned = data_first_30_cleaned.drop_duplicates(subset='Link')\n\n# Reset the index of the cleaned dataframe\ndata_first_30_cleaned = data_first_30_cleaned.reset_index(drop=True)\n\n# Display the cleaned dataframe\ndata_first_30_cleaned.head(30)",
    "outputsMetadata": {
     "0": {
      "height": 543,
      "type": "dataFrame"
     }
    }
   },
   "outputs": [],
   "source": [
    "# Drop any rows with missing values in the 'Title', 'Price', 'Location', or 'Link' columns\n",
    "data_first_30_cleaned = data_first_30.dropna(subset=['Title', 'Price', 'Location', 'Link'])\n",
    "\n",
    "# Remove any duplicate rows based on the 'Link' column\n",
    "data_first_30_cleaned = data_first_30_cleaned.drop_duplicates(subset='Link')\n",
    "\n",
    "# Reset the index of the cleaned dataframe\n",
    "data_first_30_cleaned = data_first_30_cleaned.reset_index(drop=True)\n",
    "\n",
    "# Display the cleaned dataframe\n",
    "data_first_30_cleaned.head(30)"
   ]
  },
  {
   "cell_type": "code",
   "execution_count": null,
   "id": "383860f5-f713-49fb-8f21-c2e59aa4f037",
   "metadata": {
    "executionCancelledAt": null,
    "executionTime": null,
    "lastExecutedAt": null,
    "lastExecutedByKernel": null,
    "lastScheduledRunId": null,
    "lastSuccessfullyExecutedCode": null,
    "outputsMetadata": {
     "1": {
      "height": 38,
      "type": "stream"
     },
     "2": {
      "height": 306,
      "type": "dataFrame"
     },
     "3": {
      "height": 38,
      "type": "stream"
     },
     "4": {
      "height": 194,
      "type": "dataFrame"
     }
    }
   },
   "outputs": [],
   "source": [
    "import matplotlib.pyplot as plt\n",
    "\n",
    "# EDA: Summarize and visualize key numerical fields\n",
    "\n",
    "# Summarizing numerical columns\n",
    "numerical_summary = data_first_30_cleaned[['Price', '#sqft', 'No. Beds', 'No. Baths']].describe()\n",
    "\n",
    "# Visualizing distribution of Price and Square Footage\n",
    "plt.figure(figsize=(10, 6))\n",
    "\n",
    "# Price distribution\n",
    "plt.subplot(2, 1, 1)\n",
    "plt.hist(data_first_30_cleaned['Price'], bins=10, edgecolor='black')\n",
    "plt.title('Distribution of Rent Prices')\n",
    "plt.xlabel('Price ($)')\n",
    "plt.ylabel('Frequency')\n",
    "\n",
    "# Square footage distribution\n",
    "plt.subplot(2, 1, 2)\n",
    "plt.hist(data_first_30_cleaned['#sqft'], bins=10, edgecolor='black')\n",
    "plt.title('Distribution of Square Footage')\n",
    "plt.xlabel('Square Footage')\n",
    "plt.ylabel('Frequency')\n",
    "\n",
    "plt.tight_layout()\n",
    "plt.show()\n",
    "\n",
    "# Summarize categorical fields\n",
    "# Check if the columns exist before summarizing\n",
    "categorical_columns = ['Pets Allowed', 'Furnished', 'Smoking Allowed', 'Rental Period']\n",
    "existing_categorical_columns = [col for col in categorical_columns if col in data_first_30_cleaned.columns]\n",
    "\n",
    "categorical_summary = data_first_30_cleaned[existing_categorical_columns].apply(\n",
    "    lambda x: x.value_counts())\n",
    "\n",
    "# Display numerical summary and categorical distribution\n",
    "from IPython.display import display\n",
    "import pandas as pd\n",
    "\n",
    "# Display numerical summary\n",
    "print(\"Numerical Summary of Cleaned Data\")\n",
    "display(pd.DataFrame(numerical_summary))\n",
    "\n",
    "# Display categorical summary\n",
    "print(\"Categorical Summary of Cleaned Data\")\n",
    "display(pd.DataFrame(categorical_summary))"
   ]
  },
  {
   "cell_type": "markdown",
   "id": "0f724a68-8b29-4579-9890-12b5af2e7ad2",
   "metadata": {},
   "source": [
    "### Potential Issues to Account for in Future Analysis"
   ]
  },
  {
   "cell_type": "markdown",
   "id": "22c1746a-70e9-4220-be1e-f91b7a5df8aa",
   "metadata": {},
   "source": [
    "1. **Outliers in Price Data**:\n",
    "   - Outliers can skew the analysis and lead to incorrect conclusions. Consider using techniques like IQR (Interquartile Range) or Z-score to identify and handle outliers.\n",
    "\n",
    "2. **Categorical Data in 'Location'**:\n",
    "   - The 'Location' column is categorical and may have a large number of unique values. This can complicate analysis and visualization. Consider grouping similar locations or using techniques like one-hot encoding for machine learning models.\n",
    "\n",
    "3. **Missing Values**:\n",
    "   - Although missing values have been removed, it's important to understand why they were missing. This could provide insights into the data collection process and help in making the dataset more robust.\n",
    "\n",
    "4. **Duplicate Data**:\n",
    "   - Ensure that the removal of duplicate rows did not inadvertently remove important data. Verify that duplicates were true duplicates and not just similar entries.\n",
    "\n",
    "5. **Data Consistency**:\n",
    "   - Ensure that the data is consistent across all columns. For example, check if the 'Price' column has consistent currency and format.\n"
   ]
  },
  {
   "cell_type": "markdown",
   "id": "a2277119-14d5-4870-9bbd-e80dace5789f",
   "metadata": {},
   "source": [
    "2.4 Insights and Comparative Analysis"
   ]
  },
  {
   "cell_type": "code",
   "execution_count": null,
   "id": "2e8a00da-0b0a-45a9-b5b1-1e235c6c697d",
   "metadata": {
    "executionCancelledAt": 1732663019022,
    "executionTime": 54,
    "lastExecutedAt": 1732657158625,
    "lastExecutedByKernel": "75747b6c-65b4-4014-b403-c83d5286282f",
    "lastScheduledRunId": null,
    "lastSuccessfullyExecutedCode": "# Insights Gleaned from the EDA\n\n# 1. Distribution of Prices:\n# The histogram of prices shows the distribution of property prices in the dataset. \n# The presence of a KDE plot helps in understanding the density and skewness of the price distribution.\n\n# 2. Price vs Location:\n# The boxplot of prices by location reveals the variation in property prices across different locations.\n# This can help identify locations with higher or lower median prices and the spread of prices within each location.\n\n# 3. Correlation Matrix:\n# The heatmap of the correlation matrix shows the relationships between numerical features.\n# This can help identify features that are strongly correlated with the price, which can be useful for predictive modeling.\n\n# 4. Price vs Other Numerical Features:\n# Scatter plots of price against other numerical features help in visualizing the relationships between price and these features.\n# This can reveal trends or patterns, such as whether certain features are positively or negatively correlated with price.\n\n# Comparative Analysis with Part 1:\n# Comparing the current EDA results with Part 1 EDA results provides insights into how the data has changed after cleaning and preprocessing.\n# For example, changes in the mean and median prices, or shifts in the top location, can indicate the impact of data cleaning steps.\n\n# Patterns Observed:\n# - The distribution of prices may show a right skew, indicating a higher number of lower-priced properties.\n# - Certain locations may have significantly higher or lower median prices, suggesting location-based price trends.\n# - Strong correlations between price and other numerical features can guide feature selection for modeling.\n\n# Need for More Information:\n# - Additional categorical features (e.g., property type, amenities) could provide more context for price variations.\n# - Temporal data (e.g., year of sale) could help in understanding price trends over time.\n# - External data (e.g., economic indicators, neighborhood demographics) could enrich the analysis.\n\n# Extra Data Compared to Part 1:\n# - The cleaned and preprocessed dataset provides a more accurate and reliable basis for analysis.\n# - Handling outliers, missing values, and duplicates ensures that the insights are not skewed by data quality issues.\n# - Grouping or encoding categorical data makes it easier to analyze and visualize complex features like location.\n\n# Summary of Insights:\ncomparison_results = \"Comparison results not available\"  # Placeholder for actual comparison results\n\nsummary_of_insights = {\n    'price_distribution': 'Right skew observed, indicating more lower-priced properties.',\n    'location_price_variation': 'Significant variation in median prices across locations.',\n    'correlation_with_price': 'Identified features with strong correlations to price.',\n    'comparative_analysis': comparison_results\n}\n\nsummary_of_insights"
   },
   "outputs": [],
   "source": [
    "# Insights Gleaned from the EDA\n",
    "\n",
    "# 1. Distribution of Prices:\n",
    "# The histogram of prices shows the distribution of property prices in the dataset. \n",
    "# The presence of a KDE plot helps in understanding the density and skewness of the price distribution.\n",
    "\n",
    "# 2. Price vs Location:\n",
    "# The boxplot of prices by location reveals the variation in property prices across different locations.\n",
    "# This can help identify locations with higher or lower median prices and the spread of prices within each location.\n",
    "\n",
    "# 3. Correlation Matrix:\n",
    "# The heatmap of the correlation matrix shows the relationships between numerical features.\n",
    "# This can help identify features that are strongly correlated with the price, which can be useful for predictive modeling.\n",
    "\n",
    "# 4. Price vs Other Numerical Features:\n",
    "# Scatter plots of price against other numerical features help in visualizing the relationships between price and these features.\n",
    "# This can reveal trends or patterns, such as whether certain features are positively or negatively correlated with price.\n",
    "\n",
    "# Comparative Analysis with Part 1:\n",
    "# Comparing the current EDA results with Part 1 EDA results provides insights into how the data has changed after cleaning and preprocessing.\n",
    "# For example, changes in the mean and median prices, or shifts in the top location, can indicate the impact of data cleaning steps.\n",
    "\n",
    "# Patterns Observed:\n",
    "# - The distribution of prices may show a right skew, indicating a higher number of lower-priced properties.\n",
    "# - Certain locations may have significantly higher or lower median prices, suggesting location-based price trends.\n",
    "# - Strong correlations between price and other numerical features can guide feature selection for modeling.\n",
    "\n",
    "# Need for More Information:\n",
    "# - Additional categorical features (e.g., property type, amenities) could provide more context for price variations.\n",
    "# - Temporal data (e.g., year of sale) could help in understanding price trends over time.\n",
    "# - External data (e.g., economic indicators, neighborhood demographics) could enrich the analysis.\n",
    "\n",
    "# Extra Data Compared to Part 1:\n",
    "# - The cleaned and preprocessed dataset provides a more accurate and reliable basis for analysis.\n",
    "# - Handling outliers, missing values, and duplicates ensures that the insights are not skewed by data quality issues.\n",
    "# - Grouping or encoding categorical data makes it easier to analyze and visualize complex features like location.\n",
    "\n",
    "# Summary of Insights:\n",
    "comparison_results = \"Comparison results not available\"  # Placeholder for actual comparison results\n",
    "\n",
    "summary_of_insights = {\n",
    "    'price_distribution': 'Right skew observed, indicating more lower-priced properties.',\n",
    "    'location_price_variation': 'Significant variation in median prices across locations.',\n",
    "    'correlation_with_price': 'Identified features with strong correlations to price.',\n",
    "    'comparative_analysis': comparison_results\n",
    "}\n",
    "\n",
    "summary_of_insights"
   ]
  },
  {
   "cell_type": "markdown",
   "id": "969c395c-8c10-4b2a-82bb-184e5a7b8a87",
   "metadata": {},
   "source": [
    "2.5 Interative Mapping\n"
   ]
  },
  {
   "cell_type": "markdown",
   "id": "5e5ebb62-120e-4d4f-915f-268831697741",
   "metadata": {},
   "source": [
    "**Conclusion**"
   ]
  },
  {
   "cell_type": "markdown",
   "id": "0e344b0e-7ad7-4d56-b425-e1b300e56743",
   "metadata": {},
   "source": [
    "**C1:**"
   ]
  }
 ],
 "metadata": {
  "editor": "DataLab",
  "kernelspec": {
   "display_name": "Python 3",
   "language": "python",
   "name": "python3"
  },
  "language_info": {
   "codemirror_mode": {
    "name": "ipython",
    "version": 3
   },
   "file_extension": ".py",
   "mimetype": "text/x-python",
   "name": "python",
   "nbconvert_exporter": "python",
   "pygments_lexer": "ipython3",
   "version": "3.12.6"
  }
 },
 "nbformat": 4,
 "nbformat_minor": 5
}
